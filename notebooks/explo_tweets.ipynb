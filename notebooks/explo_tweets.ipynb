{
 "cells": [
  {
   "cell_type": "code",
   "execution_count": 1,
   "metadata": {},
   "outputs": [],
   "source": [
    "#!pip install unidecode\n",
    "#!pip install nltk"
   ]
  },
  {
   "cell_type": "code",
   "execution_count": 2,
   "metadata": {},
   "outputs": [],
   "source": [
    "import collections\n",
    "from nltk.stem import SnowballStemmer\n",
    "from nltk.corpus import stopwords\n",
    "import nltk\n",
    "import os\n",
    "import pandas as pd\n",
    "import pathlib\n",
    "import plotly.express as px\n",
    "import re\n",
    "from unidecode import unidecode"
   ]
  },
  {
   "cell_type": "code",
   "execution_count": 3,
   "metadata": {},
   "outputs": [
    {
     "data": {
      "text/plain": [
       "'/home/jovyan/work/tweets'"
      ]
     },
     "execution_count": 3,
     "metadata": {},
     "output_type": "execute_result"
    }
   ],
   "source": [
    "os.getcwd()"
   ]
  },
  {
   "cell_type": "code",
   "execution_count": 4,
   "metadata": {},
   "outputs": [],
   "source": [
    "path = \"/home/jovyan/work/tweets/data/\"\n",
    "os.chdir(path)"
   ]
  },
  {
   "cell_type": "markdown",
   "metadata": {
    "jp-MarkdownHeadingCollapsed": true,
    "tags": []
   },
   "source": [
    "# read data"
   ]
  },
  {
   "cell_type": "code",
   "execution_count": 5,
   "metadata": {},
   "outputs": [
    {
     "name": "stdout",
     "output_type": "stream",
     "text": [
      "(4399, 8)\n",
      "(5014, 8)\n"
     ]
    }
   ],
   "source": [
    "file_ext = \".\"\n",
    "files = os.listdir(file_ext)\n",
    "\n",
    "files_tw = []\n",
    "for filename in files:\n",
    "    try :\n",
    "        tmp = re.search(r\"tw_.*\\b\", filename)[0]\n",
    "        if tmp:\n",
    "            files_tw.append(tmp)\n",
    "    except:\n",
    "        pass \n",
    "\n",
    "\n",
    "data = pd.DataFrame()\n",
    "for file in files_tw:\n",
    "    _tx = pd.read_csv(f\"{path}{file}\", sep=\" \")\n",
    "    _tx.columns = ['datetime', 'tweet_id', 'text',\n",
    "                  'username', 'like_count', 'retweet_count',\n",
    "                  'reply_count', 'quote_count']\n",
    "    print(_tx.shape)\n",
    "    data = pd.concat([data, _tx], axis=0)\n",
    "data = data.reset_index(drop=True)\n",
    "    "
   ]
  },
  {
   "cell_type": "code",
   "execution_count": 6,
   "metadata": {},
   "outputs": [],
   "source": [
    "# Check index duplicates "
   ]
  },
  {
   "cell_type": "code",
   "execution_count": 7,
   "metadata": {},
   "outputs": [
    {
     "data": {
      "text/html": [
       "<div>\n",
       "<style scoped>\n",
       "    .dataframe tbody tr th:only-of-type {\n",
       "        vertical-align: middle;\n",
       "    }\n",
       "\n",
       "    .dataframe tbody tr th {\n",
       "        vertical-align: top;\n",
       "    }\n",
       "\n",
       "    .dataframe thead th {\n",
       "        text-align: right;\n",
       "    }\n",
       "</style>\n",
       "<table border=\"1\" class=\"dataframe\">\n",
       "  <thead>\n",
       "    <tr style=\"text-align: right;\">\n",
       "      <th></th>\n",
       "      <th>datetime</th>\n",
       "      <th>tweet_id</th>\n",
       "      <th>text</th>\n",
       "      <th>username</th>\n",
       "      <th>like_count</th>\n",
       "      <th>retweet_count</th>\n",
       "      <th>reply_count</th>\n",
       "      <th>quote_count</th>\n",
       "    </tr>\n",
       "  </thead>\n",
       "  <tbody>\n",
       "  </tbody>\n",
       "</table>\n",
       "</div>"
      ],
      "text/plain": [
       "Empty DataFrame\n",
       "Columns: [datetime, tweet_id, text, username, like_count, retweet_count, reply_count, quote_count]\n",
       "Index: []"
      ]
     },
     "execution_count": 7,
     "metadata": {},
     "output_type": "execute_result"
    }
   ],
   "source": [
    "data[data.duplicated(keep=False)]"
   ]
  },
  {
   "cell_type": "code",
   "execution_count": 8,
   "metadata": {},
   "outputs": [
    {
     "data": {
      "text/html": [
       "<div>\n",
       "<style scoped>\n",
       "    .dataframe tbody tr th:only-of-type {\n",
       "        vertical-align: middle;\n",
       "    }\n",
       "\n",
       "    .dataframe tbody tr th {\n",
       "        vertical-align: top;\n",
       "    }\n",
       "\n",
       "    .dataframe thead th {\n",
       "        text-align: right;\n",
       "    }\n",
       "</style>\n",
       "<table border=\"1\" class=\"dataframe\">\n",
       "  <thead>\n",
       "    <tr style=\"text-align: right;\">\n",
       "      <th></th>\n",
       "      <th>datetime</th>\n",
       "      <th>tweet_id</th>\n",
       "      <th>text</th>\n",
       "      <th>username</th>\n",
       "      <th>like_count</th>\n",
       "      <th>retweet_count</th>\n",
       "      <th>reply_count</th>\n",
       "      <th>quote_count</th>\n",
       "    </tr>\n",
       "  </thead>\n",
       "  <tbody>\n",
       "    <tr>\n",
       "      <th>0</th>\n",
       "      <td>2022-02-01 06:27:17+00:00</td>\n",
       "      <td>1488398530075148292</td>\n",
       "      <td>@BFMTV nous survenu une hypothétique guerre en...</td>\n",
       "      <td>fbain_</td>\n",
       "      <td>0</td>\n",
       "      <td>0</td>\n",
       "      <td>0</td>\n",
       "      <td>0</td>\n",
       "    </tr>\n",
       "    <tr>\n",
       "      <th>1</th>\n",
       "      <td>2022-02-01 06:27:14+00:00</td>\n",
       "      <td>1488398518423277570</td>\n",
       "      <td>Ce philosophe est un va-t-en guerre !\\nEst-ce ...</td>\n",
       "      <td>karax12</td>\n",
       "      <td>0</td>\n",
       "      <td>0</td>\n",
       "      <td>0</td>\n",
       "      <td>0</td>\n",
       "    </tr>\n",
       "    <tr>\n",
       "      <th>2</th>\n",
       "      <td>2022-02-01 06:26:11+00:00</td>\n",
       "      <td>1488398252017954818</td>\n",
       "      <td>Le ministre #turc de la Défense évoque l'impor...</td>\n",
       "      <td>nryunus1</td>\n",
       "      <td>4</td>\n",
       "      <td>0</td>\n",
       "      <td>0</td>\n",
       "      <td>0</td>\n",
       "    </tr>\n",
       "    <tr>\n",
       "      <th>3</th>\n",
       "      <td>2022-02-01 06:25:28+00:00</td>\n",
       "      <td>1488398072791150594</td>\n",
       "      <td>J'ai compris le problème du Président @Emmanue...</td>\n",
       "      <td>datadito</td>\n",
       "      <td>0</td>\n",
       "      <td>0</td>\n",
       "      <td>0</td>\n",
       "      <td>0</td>\n",
       "    </tr>\n",
       "    <tr>\n",
       "      <th>4</th>\n",
       "      <td>2022-02-01 06:24:27+00:00</td>\n",
       "      <td>1488397818347671556</td>\n",
       "      <td>#FLASHINFO\\n#Ukraine: les menaces de sanctions...</td>\n",
       "      <td>ArabNewsfr</td>\n",
       "      <td>0</td>\n",
       "      <td>0</td>\n",
       "      <td>0</td>\n",
       "      <td>0</td>\n",
       "    </tr>\n",
       "  </tbody>\n",
       "</table>\n",
       "</div>"
      ],
      "text/plain": [
       "                    datetime             tweet_id  \\\n",
       "0  2022-02-01 06:27:17+00:00  1488398530075148292   \n",
       "1  2022-02-01 06:27:14+00:00  1488398518423277570   \n",
       "2  2022-02-01 06:26:11+00:00  1488398252017954818   \n",
       "3  2022-02-01 06:25:28+00:00  1488398072791150594   \n",
       "4  2022-02-01 06:24:27+00:00  1488397818347671556   \n",
       "\n",
       "                                                text    username  like_count  \\\n",
       "0  @BFMTV nous survenu une hypothétique guerre en...      fbain_           0   \n",
       "1  Ce philosophe est un va-t-en guerre !\\nEst-ce ...     karax12           0   \n",
       "2  Le ministre #turc de la Défense évoque l'impor...    nryunus1           4   \n",
       "3  J'ai compris le problème du Président @Emmanue...    datadito           0   \n",
       "4  #FLASHINFO\\n#Ukraine: les menaces de sanctions...  ArabNewsfr           0   \n",
       "\n",
       "   retweet_count  reply_count  quote_count  \n",
       "0              0            0            0  \n",
       "1              0            0            0  \n",
       "2              0            0            0  \n",
       "3              0            0            0  \n",
       "4              0            0            0  "
      ]
     },
     "execution_count": 8,
     "metadata": {},
     "output_type": "execute_result"
    }
   ],
   "source": [
    "data.head()"
   ]
  },
  {
   "cell_type": "markdown",
   "metadata": {},
   "source": [
    "# Analyse exploratoire ==> julie"
   ]
  },
  {
   "cell_type": "code",
   "execution_count": 9,
   "metadata": {},
   "outputs": [],
   "source": [
    "def transform_dates(df, column=\"datetime\"):\n",
    "    df[column] = df[column].apply(lambda x: pd.Timestamp(x))\n",
    "    df[\"date\"] = df[column].dt.date\n",
    "    df[\"day\"] = df[column].dt.day\n",
    "    df[\"month\"] = df[column].dt.month\n",
    "    df[\"time\"] = df[column].dt.time\n",
    "    df[\"hour\"] = df[column].dt.hour\n",
    "    df[\"minute\"] = df[column].dt.minute\n",
    "    return df"
   ]
  },
  {
   "cell_type": "code",
   "execution_count": 10,
   "metadata": {},
   "outputs": [],
   "source": [
    "data = transform_dates(df=data, column=\"datetime\")"
   ]
  },
  {
   "cell_type": "code",
   "execution_count": 11,
   "metadata": {},
   "outputs": [
    {
     "data": {
      "text/plain": [
       "Timestamp('2022-02-01 06:02:44+0000', tz='UTC')"
      ]
     },
     "execution_count": 11,
     "metadata": {},
     "output_type": "execute_result"
    }
   ],
   "source": [
    "data[\"datetime\"].min()"
   ]
  },
  {
   "cell_type": "code",
   "execution_count": 12,
   "metadata": {},
   "outputs": [
    {
     "data": {
      "text/plain": [
       "Timestamp('2022-02-21 10:28:17+0000', tz='UTC')"
      ]
     },
     "execution_count": 12,
     "metadata": {},
     "output_type": "execute_result"
    }
   ],
   "source": [
    "data[\"datetime\"].max()"
   ]
  },
  {
   "cell_type": "markdown",
   "metadata": {
    "tags": []
   },
   "source": [
    "tmp = data.groupby(\"day\")[\"tweet_id\"].count().reset_index()\n",
    "display(tmp)\n",
    "fig = px.line(tmp, x='day', y=\"tweet_id\")\n",
    "fig.show()"
   ]
  },
  {
   "cell_type": "markdown",
   "metadata": {},
   "source": [
    "# Monitorer l'évolution du #ukraine ==> Alicia"
   ]
  },
  {
   "cell_type": "code",
   "execution_count": null,
   "metadata": {},
   "outputs": [],
   "source": []
  },
  {
   "cell_type": "code",
   "execution_count": null,
   "metadata": {},
   "outputs": [],
   "source": []
  },
  {
   "cell_type": "markdown",
   "metadata": {},
   "source": [
    "# Preprocessing ==> Anne + Valentina"
   ]
  },
  {
   "cell_type": "markdown",
   "metadata": {},
   "source": [
    "### - Filter only french tweets  @julie"
   ]
  },
  {
   "cell_type": "code",
   "execution_count": 13,
   "metadata": {},
   "outputs": [],
   "source": [
    "# @julie"
   ]
  },
  {
   "cell_type": "code",
   "execution_count": 14,
   "metadata": {},
   "outputs": [
    {
     "data": {
      "text/plain": [
       "0       @BFMTV nous survenu une hypothétique guerre en...\n",
       "1       Ce philosophe est un va-t-en guerre !\\nEst-ce ...\n",
       "2       Le ministre #turc de la Défense évoque l'impor...\n",
       "3       J'ai compris le problème du Président @Emmanue...\n",
       "4       #FLASHINFO\\n#Ukraine: les menaces de sanctions...\n",
       "                              ...                        \n",
       "9408    Crise en #Ukraine : La Russie a l’intention de...\n",
       "9409    #Ukraine: L'Élysée confirme un sommet entre Po...\n",
       "9410    #ukraine , c'est une blague...😳😳😳👇👇https://t.c...\n",
       "9411    @Beckerjean @sandrousseau Les Ukrainiens le VE...\n",
       "9412    L’agence de presse russe TASS annonce qu’un po...\n",
       "Name: text, Length: 9413, dtype: object"
      ]
     },
     "execution_count": 14,
     "metadata": {},
     "output_type": "execute_result"
    }
   ],
   "source": [
    "data[\"text\"]"
   ]
  },
  {
   "cell_type": "markdown",
   "metadata": {},
   "source": [
    "### save \"#\" and \"@\" on a column"
   ]
  },
  {
   "cell_type": "code",
   "execution_count": 16,
   "metadata": {},
   "outputs": [
    {
     "name": "stdout",
     "output_type": "stream",
     "text": [
      "2938\n"
     ]
    }
   ],
   "source": [
    "#test[\"top_hashtag\"] = test[\"text\"].apply(lambda x: re.match(str(x),\"[#].*\" ))\n",
    "#Find all \"#\"\n",
    "data[\"hashtags\"] = data[\"text\"].apply(lambda y: [x.group() for x in re.finditer(r'#[a-zA-Z]+', y)])\n",
    "\n",
    "# Find all @\n",
    "data[\"arrobas\"] = data[\"text\"].apply(lambda y: [x.group() for x in re.finditer(r'@[a-zA-Z]+', y)])\n",
    "\n",
    "# lists of all hashtags\n",
    "all_hashtags = [i for htg in data[\"hashtags\"] for i in htg]\n",
    "list_unique_htg = list(set(all_hashtags))\n",
    "print(len(list_unique_htg))"
   ]
  },
  {
   "cell_type": "code",
   "execution_count": 17,
   "metadata": {},
   "outputs": [],
   "source": [
    "# lower case tweets\n",
    "data[\"text\"] = data[\"text\"].str.lower()\n",
    "\n",
    "# replace https links with \"link\"\n",
    "regex_http = r'([\\w+]+\\:\\/\\/)?([\\w\\d-]+\\.)*[\\w-]+[\\.\\:]\\w+([\\/\\?\\=\\&\\#\\.]?[\\w-]+)*\\/?'\n",
    "data[\"text_clean\"] = [re.sub(regex_http, '<link>', doc) for doc in data[\"text\"]]\n",
    "\n",
    "#data[\"text_clean\"] = [re.sub(r'#[a-zA-Z]+', '<hashtag>', doc) for doc in data[\"text_clean\"]]\n",
    "#data[\"text_clean\"] = [re.sub(r'@[a-zA-Z]+', '<arrobas>', doc) for doc in data[\"text_clean\"]]\n",
    "\n",
    "# replace years\n",
    "data[\"text_clean\"] = [re.sub(r'[0-9]{4}', '<annee>', doc) for doc in data[\"text_clean\"]]"
   ]
  },
  {
   "cell_type": "code",
   "execution_count": 18,
   "metadata": {},
   "outputs": [
    {
     "data": {
      "text/plain": [
       "0       @bfmtv nous survenu une hypothétique guerre en...\n",
       "1       ce philosophe est un va-t-en guerre !\\nest-ce ...\n",
       "2       le ministre #turc de la défense évoque l'impor...\n",
       "3       j'ai compris le problème du président @emmanue...\n",
       "4       #flashinfo\\n#ukraine: les menaces de sanctions...\n",
       "                              ...                        \n",
       "9408    crise en #ukraine : la russie a l’intention de...\n",
       "9409    #ukraine: l'élysée confirme un sommet entre po...\n",
       "9410            #ukraine , c'est une blague...😳😳😳👇👇<link>\n",
       "9411    @beckerjean @sandrousseau les ukrainiens le ve...\n",
       "9412    l’agence de presse russe tass annonce qu’un po...\n",
       "Name: text_clean, Length: 9413, dtype: object"
      ]
     },
     "execution_count": 18,
     "metadata": {},
     "output_type": "execute_result"
    }
   ],
   "source": [
    "data[\"text_clean\"]"
   ]
  },
  {
   "cell_type": "code",
   "execution_count": 19,
   "metadata": {},
   "outputs": [],
   "source": [
    "# delete accents and emojis\n",
    "data[\"text_clean\"] = [unidecode(doc) for doc in data[\"text_clean\"]]"
   ]
  },
  {
   "cell_type": "code",
   "execution_count": 20,
   "metadata": {},
   "outputs": [],
   "source": [
    "# replace all non alphabetic chars with an space\n",
    "data[\"text_clean\"] = [re.sub(r\"[^a-z<>]+\", ' ', doc) for doc in data[\"text_clean\"]]"
   ]
  },
  {
   "cell_type": "code",
   "execution_count": null,
   "metadata": {},
   "outputs": [],
   "source": [
    "# exemple"
   ]
  },
  {
   "cell_type": "code",
   "execution_count": 25,
   "metadata": {},
   "outputs": [
    {
     "data": {
      "text/plain": [
       "'#flashinfo\\n#ukraine: les menaces de sanctions ne feront pas \"battre en retraite\" #moscou (ambassade) https://t.co/hxs8y92iiw'"
      ]
     },
     "execution_count": 25,
     "metadata": {},
     "output_type": "execute_result"
    }
   ],
   "source": [
    "data[\"text\"].iloc[4]"
   ]
  },
  {
   "cell_type": "code",
   "execution_count": 26,
   "metadata": {},
   "outputs": [
    {
     "data": {
      "text/plain": [
       "'flashinfo ukraine menaces sanctions feront battre retraite moscou ambassade <link>'"
      ]
     },
     "execution_count": 26,
     "metadata": {},
     "output_type": "execute_result"
    }
   ],
   "source": [
    "data[\"text_clean\"].iloc[4]"
   ]
  },
  {
   "cell_type": "code",
   "execution_count": 23,
   "metadata": {},
   "outputs": [
    {
     "name": "stderr",
     "output_type": "stream",
     "text": [
      "[nltk_data] Downloading package stopwords to /home/jovyan/nltk_data...\n",
      "[nltk_data]   Package stopwords is already up-to-date!\n"
     ]
    }
   ],
   "source": [
    "# French stopwords\n",
    "nltk.download('stopwords')\n",
    "french_stopwords_list = stopwords.words('french')\n",
    "data[\"text_clean\"] = [' '.join([word for word in doc.split() if word not in french_stopwords_list]) for doc in data[\"text_clean\"]]"
   ]
  },
  {
   "cell_type": "code",
   "execution_count": null,
   "metadata": {},
   "outputs": [],
   "source": [
    "# idees : supprimer les mots d'1 seule syllabe"
   ]
  },
  {
   "cell_type": "markdown",
   "metadata": {},
   "source": [
    "# Nuage de mots ==> Anne"
   ]
  },
  {
   "cell_type": "code",
   "execution_count": null,
   "metadata": {},
   "outputs": [],
   "source": []
  },
  {
   "cell_type": "code",
   "execution_count": null,
   "metadata": {},
   "outputs": [],
   "source": []
  }
 ],
 "metadata": {
  "kernelspec": {
   "display_name": "Python 3 (ipykernel)",
   "language": "python",
   "name": "python3"
  },
  "language_info": {
   "codemirror_mode": {
    "name": "ipython",
    "version": 3
   },
   "file_extension": ".py",
   "mimetype": "text/x-python",
   "name": "python",
   "nbconvert_exporter": "python",
   "pygments_lexer": "ipython3",
   "version": "3.9.12"
  }
 },
 "nbformat": 4,
 "nbformat_minor": 4
}
